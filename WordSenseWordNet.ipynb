{
  "nbformat": 4,
  "nbformat_minor": 0,
  "metadata": {
    "kernelspec": {
      "display_name": "Python 3",
      "language": "python",
      "name": "python3"
    },
    "language_info": {
      "codemirror_mode": {
        "name": "ipython",
        "version": 3
      },
      "file_extension": ".py",
      "mimetype": "text/x-python",
      "name": "python",
      "nbconvert_exporter": "python",
      "pygments_lexer": "ipython3",
      "version": "3.7.3"
    },
    "colab": {
      "name": "WordSenseWordNet",
      "provenance": [],
      "include_colab_link": true
    }
  },
  "cells": [
    {
      "cell_type": "markdown",
      "metadata": {
        "id": "view-in-github",
        "colab_type": "text"
      },
      "source": [
        "<a href=\"https://colab.research.google.com/github/mithunkumarsr/NLPMay22/blob/main/WordSenseWordNet.ipynb\" target=\"_parent\"><img src=\"https://colab.research.google.com/assets/colab-badge.svg\" alt=\"Open In Colab\"/></a>"
      ]
    },
    {
      "cell_type": "markdown",
      "metadata": {
        "id": "XAssq0RkbY8Y"
      },
      "source": [
        "# WordNet\n",
        "https://wordnet.princeton.edu"
      ]
    },
    {
      "cell_type": "code",
      "metadata": {
        "id": "-cXKdr6jbY8Z"
      },
      "source": [
        "# NLTK provides direct access to wordnet. \n",
        "# WordNet corpus reader gives access to the Open Multilingual WordNet.\n",
        "from nltk.corpus import wordnet as wn\n",
        "from nltk import pos_tag,word_tokenize"
      ],
      "execution_count": 1,
      "outputs": []
    },
    {
      "cell_type": "markdown",
      "metadata": {
        "id": "R6UwZKQhbY8a"
      },
      "source": [
        "# Synsets"
      ]
    },
    {
      "cell_type": "code",
      "metadata": {
        "scrolled": true,
        "colab": {
          "base_uri": "https://localhost:8080/"
        },
        "id": "hYL5S79cbY8a",
        "outputId": "33d94597-f5dc-48ae-bded-d3f2266d958e"
      },
      "source": [
        "#Import wordnet from the NLTK\n",
        "import nltk\n",
        "nltk.download('omw-1.4')\n",
        "nltk.download('wordnet')\n",
        "from nltk.corpus import wordnet \n",
        "# A synset is identified with a 3-parts of the form: word.pos.nn (word.part-of-speech.no.-of-sense)\n",
        "synset = wn.synsets(\"education\")\n",
        "print('Word and Type : ' + synset[0].name())\n",
        "print('The meaning of the word : ' + synset[0].definition())\n",
        "print('Example : ' + str(synset[0].examples()))"
      ],
      "execution_count": 3,
      "outputs": [
        {
          "output_type": "stream",
          "name": "stderr",
          "text": [
            "[nltk_data] Downloading package omw-1.4 to /root/nltk_data...\n",
            "[nltk_data] Downloading package wordnet to /root/nltk_data...\n",
            "[nltk_data]   Package wordnet is already up-to-date!\n"
          ]
        },
        {
          "output_type": "stream",
          "name": "stdout",
          "text": [
            "Word and Type : education.n.01\n",
            "The meaning of the word : the activities of educating or instructing; activities that impart knowledge or skill\n",
            "Example : ['he received no formal education', 'our instruction was carefully programmed', 'good classroom teaching is seldom rewarded']\n"
          ]
        }
      ]
    },
    {
      "cell_type": "code",
      "metadata": {
        "colab": {
          "base_uri": "https://localhost:8080/"
        },
        "id": "Fyu-BtrmbY8c",
        "outputId": "629beb34-c7e6-4f1f-c609-a67dac20ffa3"
      },
      "source": [
        "# For a word like \"car\" we can take a look at the synsets:\n",
        "print(wn.synsets('car'))\n",
        "\n",
        "# Example usage of synset for \"car\":\n",
        "print(wn.synset('car.n.01').examples())"
      ],
      "execution_count": 4,
      "outputs": [
        {
          "output_type": "stream",
          "name": "stdout",
          "text": [
            "[Synset('car.n.01'), Synset('car.n.02'), Synset('car.n.03'), Synset('car.n.04'), Synset('cable_car.n.01')]\n",
            "['he needs a car to get to work']\n"
          ]
        }
      ]
    },
    {
      "cell_type": "code",
      "metadata": {
        "colab": {
          "base_uri": "https://localhost:8080/"
        },
        "id": "ZzLNdIAYbY8c",
        "outputId": "64e6d7f7-5a3b-482c-ac62-8b4a31d34eaa"
      },
      "source": [
        "# One primary use for WordNet is to determine the similarity between words.\n",
        "# Take for example the following two sentences:\n",
        "# 1. I learned natural language processing by resources found on the internet.\n",
        "# 2. I learned natural language processing by resources found on the net.\n",
        "\n",
        "# Both sentence 1. and 2. are the same, with the exception of the last word.\n",
        "# The words \"internet\" and \"net\" are synoynms, so the meaning of each sentence\n",
        "# is the same irrespective of whether \"internet\" or \"net\" is used at the end.\n",
        "\n",
        "# We can use the wordnet module to determine the synsets (synonym sets) of\n",
        "# the word internet:\n",
        "print(wn.synsets('internet'))\n",
        "\n",
        "# The entry 'internet.n.01' is a synset for the word internet.\n",
        "# Each synonym in the set is referred to as a **lemma**.\n",
        "# We can print out the list of such synsets and their corresponding\n",
        "# lemmas.(Specifically, the pairing of a synset with a word is called a lemma):\n",
        "print(wn.synset('internet.n.01').lemma_names())"
      ],
      "execution_count": 5,
      "outputs": [
        {
          "output_type": "stream",
          "name": "stdout",
          "text": [
            "[Synset('internet.n.01')]\n",
            "['internet', 'net', 'cyberspace']\n"
          ]
        }
      ]
    },
    {
      "cell_type": "code",
      "metadata": {
        "id": "v4C8W7wTbY8d"
      },
      "source": [
        "# According to WordNet, the word \"internet\" is a synonym of the word \"net\" and the word \"cyberspace\"."
      ],
      "execution_count": null,
      "outputs": []
    },
    {
      "cell_type": "markdown",
      "metadata": {
        "id": "GlMrknWIbY8d"
      },
      "source": [
        "# Synonyms and Antonyms"
      ]
    },
    {
      "cell_type": "code",
      "metadata": {
        "colab": {
          "base_uri": "https://localhost:8080/"
        },
        "id": "eoS14MoZbY8e",
        "outputId": "8f9da13e-844b-4422-b838-f0c65b506518"
      },
      "source": [
        "# Get Synonyms and Antonyms\n",
        "syn = list()\n",
        "ant = list()\n",
        "for synset in wn.synsets(\"good\"):\n",
        "   for lemma in synset.lemmas():\n",
        "      syn.append(lemma.name())    #add the synonyms\n",
        "      if lemma.antonyms():    #When antonyms are available, add them into the list\n",
        "        ant.append(lemma.antonyms()[0].name())\n",
        "      \n",
        "print('Synonyms: ' + str(syn))"
      ],
      "execution_count": 6,
      "outputs": [
        {
          "output_type": "stream",
          "name": "stdout",
          "text": [
            "Synonyms: ['good', 'good', 'goodness', 'good', 'goodness', 'commodity', 'trade_good', 'good', 'good', 'full', 'good', 'good', 'estimable', 'good', 'honorable', 'respectable', 'beneficial', 'good', 'good', 'good', 'just', 'upright', 'adept', 'expert', 'good', 'practiced', 'proficient', 'skillful', 'skilful', 'good', 'dear', 'good', 'near', 'dependable', 'good', 'safe', 'secure', 'good', 'right', 'ripe', 'good', 'well', 'effective', 'good', 'in_effect', 'in_force', 'good', 'good', 'serious', 'good', 'sound', 'good', 'salutary', 'good', 'honest', 'good', 'undecomposed', 'unspoiled', 'unspoilt', 'good', 'well', 'good', 'thoroughly', 'soundly', 'good']\n"
          ]
        }
      ]
    },
    {
      "cell_type": "code",
      "metadata": {
        "colab": {
          "base_uri": "https://localhost:8080/"
        },
        "id": "dxEKrigLbY8e",
        "outputId": "39efd808-b636-47ac-bb4c-d15572a0eb3d"
      },
      "source": [
        "print('Antonyms: ' + str(ant))"
      ],
      "execution_count": 7,
      "outputs": [
        {
          "output_type": "stream",
          "name": "stdout",
          "text": [
            "Antonyms: ['evil', 'evilness', 'bad', 'badness', 'bad', 'evil', 'ill']\n"
          ]
        }
      ]
    },
    {
      "cell_type": "markdown",
      "metadata": {
        "id": "I2N8bVs7bY8e"
      },
      "source": [
        "# Hyponym and Hypernym"
      ]
    },
    {
      "cell_type": "code",
      "metadata": {
        "colab": {
          "base_uri": "https://localhost:8080/"
        },
        "id": "vQsigNHObY8f",
        "outputId": "3491f8ac-cd3b-43b9-998c-add55246f8bd"
      },
      "source": [
        "# Hyponym: \"a word of more specific meaning than a general or superordinate\n",
        "# term applicable to it. For example, spoon is a hyponym of cutlery.\"\n",
        "\n",
        "# First obtain the synsets for the term \"cat\":\n",
        "print(wn.synsets('cat'))"
      ],
      "execution_count": 8,
      "outputs": [
        {
          "output_type": "stream",
          "name": "stdout",
          "text": [
            "[Synset('cat.n.01'), Synset('guy.n.01'), Synset('cat.n.03'), Synset('kat.n.01'), Synset('cat-o'-nine-tails.n.01'), Synset('caterpillar.n.02'), Synset('big_cat.n.01'), Synset('computerized_tomography.n.01'), Synset('cat.v.01'), Synset('vomit.v.01')]\n"
          ]
        }
      ]
    },
    {
      "cell_type": "code",
      "metadata": {
        "colab": {
          "base_uri": "https://localhost:8080/"
        },
        "id": "B9LiBjarbY8f",
        "outputId": "cd85860f-4959-4d4f-b5cc-0c828f8c754f"
      },
      "source": [
        "# There are a few different synsets for this word.\n",
        "# Let us take a look at what the definition of\n",
        "# the synset 'cat.n.01' is:\n",
        "print(wn.synset('cat.n.01').definition())"
      ],
      "execution_count": 9,
      "outputs": [
        {
          "output_type": "stream",
          "name": "stdout",
          "text": [
            "feline mammal usually having thick soft fur and no ability to roar: domestic cats; wildcats\n"
          ]
        }
      ]
    },
    {
      "cell_type": "code",
      "metadata": {
        "colab": {
          "base_uri": "https://localhost:8080/"
        },
        "id": "V1fqDSwDbY8g",
        "outputId": "a485e3bf-9e1e-4c85-ed04-a260f41e05d4"
      },
      "source": [
        "# Definition refers to the feline variety of the term cat. \n",
        "# Let us determine the hyponyms of the term \"cat\", and\n",
        "# store that into a variable `types_of_cats`.\n",
        "cat = wn.synset('cat.n.01')\n",
        "types_of_cats = cat.hyponyms()\n",
        "\n",
        "# Now, let us loop through the hyponyms and see the\n",
        "# lemmas for each synset:\n",
        "for synset in types_of_cats:\n",
        "    for lemma in synset.lemmas():\n",
        "        print(lemma.name())"
      ],
      "execution_count": 10,
      "outputs": [
        {
          "output_type": "stream",
          "name": "stdout",
          "text": [
            "domestic_cat\n",
            "house_cat\n",
            "Felis_domesticus\n",
            "Felis_catus\n",
            "wildcat\n"
          ]
        }
      ]
    },
    {
      "cell_type": "code",
      "metadata": {
        "colab": {
          "base_uri": "https://localhost:8080/"
        },
        "id": "gUenOWO7bY8g",
        "outputId": "0afa77c6-0f00-4b30-8f70-ee3114b8e2b1"
      },
      "source": [
        "# Note that terms like \"domestic_cat\" and \"house_cat\" are\n",
        "# more specific terms with respect to the term \"cat\", that is,\n",
        "# they are hyponyms of the word \"cat\".\n",
        "\n",
        "# Hypernym: \"a word with a broad meaning that more specific words fall\n",
        "# under; a superordinate. For example, color is a hypernym of red.\n",
        "\n",
        "# A hyponym drills down to more specificity, while a hypernym goes\n",
        "# upward toward more generality.\n",
        "\n",
        "# Example:\n",
        "#   Cat <- hypernym\n",
        "#       house_cat <- hyponym\n",
        "print(wn.synset('house_cat.n.01').hypernyms())\n",
        "\n",
        "# One way in which one may ascribe similarity between two different words\n",
        "# is to assign a score based on the distance in terms of hypernyms and\n",
        "# hyponyms. That is, how many levels up or down is a given word from\n",
        "# the other we are attempting to compare it to."
      ],
      "execution_count": 11,
      "outputs": [
        {
          "output_type": "stream",
          "name": "stdout",
          "text": [
            "[Synset('cat.n.01'), Synset('domestic_animal.n.01')]\n"
          ]
        }
      ]
    },
    {
      "cell_type": "markdown",
      "metadata": {
        "id": "wiHbvDd7bY8h"
      },
      "source": [
        "# WordNet Path Similarity"
      ]
    },
    {
      "cell_type": "code",
      "metadata": {
        "colab": {
          "base_uri": "https://localhost:8080/"
        },
        "id": "q9p1At8gbY8h",
        "outputId": "f25dcc06-4a9a-4a92-c523-625b596e418d"
      },
      "source": [
        "# WordNet provides to us some metric to know how two words are related to one another.\n",
        "# The `path_similarity` function returns a score denoting how similar two\n",
        "# words are in terms of the distance between hypernyms/hyponyms.\n",
        "\n",
        "# Let us calculate this metric of similarity between words \"car\" and \"automobile\".\n",
        "\n",
        "# First, define the synsets for these terms:\n",
        "car = wn.synset('car.n.01')\n",
        "#print(car)\n",
        "automobile = wn.synset('automobile.n.01')\n",
        "\n",
        "# The path_similarity function returns a score between 0 and 1, \n",
        "# where 0 is no similarity between the hypernym/hyponym tree and \n",
        "# distance of 1 is the node which houses both of the words \n",
        "# in terms of hypernyms/hyponyms is identical.\n",
        "\n",
        "print(\"Path similarity between CAR and AUTOMOBILE = \")\n",
        "print(car.path_similarity(automobile))"
      ],
      "execution_count": 12,
      "outputs": [
        {
          "output_type": "stream",
          "name": "stdout",
          "text": [
            "Path similarity between CAR and AUTOMOBILE = \n",
            "1.0\n"
          ]
        }
      ]
    },
    {
      "cell_type": "code",
      "metadata": {
        "colab": {
          "base_uri": "https://localhost:8080/"
        },
        "id": "02iu-9_IbY8h",
        "outputId": "6262fcb9-8b42-43a4-d772-d2fb04d2464c"
      },
      "source": [
        "# We see that \"car\" and \"automobile\" have the highest similarity possible, with a score of 1.0.\n",
        "# One of the synonyms of \"car\" is indeed \"automobile\".\n",
        "\n",
        "# Let us now take a look at the term \"car\" and \"boat\":\n",
        "boat = wn.synset('boat.n.01')\n",
        "print(\"Path similarity between CAR and BOAT = \")\n",
        "print(car.path_similarity(boat))"
      ],
      "execution_count": 13,
      "outputs": [
        {
          "output_type": "stream",
          "name": "stdout",
          "text": [
            "Path similarity between CAR and BOAT = \n",
            "0.125\n"
          ]
        }
      ]
    },
    {
      "cell_type": "code",
      "metadata": {
        "colab": {
          "base_uri": "https://localhost:8080/"
        },
        "id": "7skaONAjbY8i",
        "outputId": "9d299c96-414c-404f-e024-82318e7227c8"
      },
      "source": [
        "# We see a lower number here. The traversal with respect to hypernyms/hyponyms \n",
        "# from car to boat is certainly at least below 1.0.\n",
        "\n",
        "# There are actually many ways in which to define distances between words.\n",
        "# let us look at the Wu-Palmber similarity metric.\n",
        "print(\"Wu-Palmber similarity between CAR and AUTOMOBILE = \")\n",
        "print(car.wup_similarity(automobile))"
      ],
      "execution_count": 18,
      "outputs": [
        {
          "output_type": "stream",
          "name": "stdout",
          "text": [
            "Wu-Palmber similarity between CAR and AUTOMOBILE = \n",
            "1.0\n"
          ]
        }
      ]
    },
    {
      "cell_type": "code",
      "metadata": {
        "colab": {
          "base_uri": "https://localhost:8080/"
        },
        "id": "6dCVnaAPbY8i",
        "outputId": "036106d5-5693-4ad3-8b84-13c0cd0b9cd1"
      },
      "source": [
        "# wup metric with \"car\" and \"boat\":\n",
        "print(\"Wu-Palmber similarity between CAR and BOAT = \")\n",
        "print(car.wup_similarity(boat))"
      ],
      "execution_count": 15,
      "outputs": [
        {
          "output_type": "stream",
          "name": "stdout",
          "text": [
            "Wu-Palmber similarity between CAR and BOAT = \n",
            "0.6956521739130435\n"
          ]
        }
      ]
    },
    {
      "cell_type": "code",
      "metadata": {
        "colab": {
          "base_uri": "https://localhost:8080/"
        },
        "id": "_StORwHWbY8j",
        "outputId": "a7dba1a5-9ef4-4b61-b641-dc7fa75b1c28"
      },
      "source": [
        "# wup metric with \"car\" and \"cat\":\n",
        "cat = wn.synset('cat.n.01')\n",
        "print(\"Wu-Palmber similarity between CAR and CAT = \")\n",
        "print(car.wup_similarity(cat))\n",
        "\n",
        "# We see an even lower number here, as one may expect between the terms \n",
        "# \"car\" and \"cat\" under this metric of word similarity. "
      ],
      "execution_count": 16,
      "outputs": [
        {
          "output_type": "stream",
          "name": "stdout",
          "text": [
            "Wu-Palmber similarity between CAR and CAT = \n",
            "0.32\n"
          ]
        }
      ]
    },
    {
      "cell_type": "markdown",
      "metadata": {
        "id": "NY5c_X2QbY8j"
      },
      "source": [
        "# WordNet for word sense disambiguation"
      ]
    },
    {
      "cell_type": "code",
      "metadata": {
        "id": "CvIrKbT8bY8j"
      },
      "source": [
        "# Let us take example sentence and find exact sense of the word \"bank\" used in the sentence."
      ],
      "execution_count": null,
      "outputs": []
    },
    {
      "cell_type": "code",
      "metadata": {
        "colab": {
          "base_uri": "https://localhost:8080/"
        },
        "id": "YZ9PoxfcbY8j",
        "outputId": "14fc5fe5-f6aa-40b3-c961-f5ab96628a07"
      },
      "source": [
        "import nltk\n",
        "nltk.download('punkt')\n",
        "nltk.download('averaged_perceptron_tagger')\n",
        "nltk.download('universal_tagset')\n",
        "  \n",
        "sentence='The river bank is beautiful'\n",
        "#POS Tagging\n",
        "def pos_tag_s(sent):\n",
        "    pos_tag_list=pos_tag(word_tokenize(sent),tagset='universal')\n",
        "    return pos_tag_list\n",
        "\n",
        "pos_tag_sent=pos_tag_s(sentence)\n",
        "print(pos_tag_sent)\n",
        "\n",
        "#We try to find the exact sense of noun \"bank\" in this sentence\n",
        "chk_Noun=[]\n",
        "\n",
        "for i in pos_tag_sent:\n",
        "    if i[1]=='NOUN':\n",
        "        chk_Noun.append(i[0])\n",
        "print(\"Nouns :\",chk_Noun)"
      ],
      "execution_count": 17,
      "outputs": [
        {
          "output_type": "stream",
          "name": "stderr",
          "text": [
            "[nltk_data] Downloading package punkt to /root/nltk_data...\n",
            "[nltk_data]   Unzipping tokenizers/punkt.zip.\n",
            "[nltk_data] Downloading package averaged_perceptron_tagger to\n",
            "[nltk_data]     /root/nltk_data...\n",
            "[nltk_data]   Unzipping taggers/averaged_perceptron_tagger.zip.\n",
            "[nltk_data] Downloading package universal_tagset to /root/nltk_data...\n"
          ]
        },
        {
          "output_type": "stream",
          "name": "stdout",
          "text": [
            "[('The', 'DET'), ('river', 'NOUN'), ('bank', 'NOUN'), ('is', 'VERB'), ('beautiful', 'ADJ')]\n",
            "Nouns : ['river', 'bank']\n"
          ]
        },
        {
          "output_type": "stream",
          "name": "stderr",
          "text": [
            "[nltk_data]   Unzipping taggers/universal_tagset.zip.\n"
          ]
        }
      ]
    },
    {
      "cell_type": "code",
      "metadata": {
        "colab": {
          "base_uri": "https://localhost:8080/"
        },
        "id": "ll0oDcGKbY8k",
        "outputId": "093266bc-8fdc-4522-c610-7028a288c1bf"
      },
      "source": [
        "#Extract synsets \n",
        "synset_1=[ss for ss in wordnet.synsets(chk_Noun[0],'n')]\n",
        "print(synset_1,\"\\n\")"
      ],
      "execution_count": null,
      "outputs": [
        {
          "output_type": "stream",
          "text": [
            "[Synset('river.n.01')] \n",
            "\n"
          ],
          "name": "stdout"
        }
      ]
    },
    {
      "cell_type": "code",
      "metadata": {
        "colab": {
          "base_uri": "https://localhost:8080/"
        },
        "id": "BPWrgo7sbY8k",
        "outputId": "25789c2f-37ae-49af-b8c3-1a5778cf0423"
      },
      "source": [
        "#Extract synsets \n",
        "synset_2=[ss for ss in wordnet.synsets(chk_Noun[1],'n')]\n",
        "print(synset_2,\"\\n\")"
      ],
      "execution_count": null,
      "outputs": [
        {
          "output_type": "stream",
          "text": [
            "[Synset('bank.n.01'), Synset('depository_financial_institution.n.01'), Synset('bank.n.03'), Synset('bank.n.04'), Synset('bank.n.05'), Synset('bank.n.06'), Synset('bank.n.07'), Synset('savings_bank.n.02'), Synset('bank.n.09'), Synset('bank.n.10')] \n",
            "\n"
          ],
          "name": "stdout"
        }
      ]
    },
    {
      "cell_type": "code",
      "metadata": {
        "colab": {
          "base_uri": "https://localhost:8080/"
        },
        "id": "QEvDccGWbY8k",
        "outputId": "8e7e2bc3-e656-4aa1-d6b9-8df9c846fd0e"
      },
      "source": [
        "listpath=[]\n",
        "for i in synset_1:\n",
        "    list1=[]\n",
        "    for j in synset_2:\n",
        "       list1.append(i.path_similarity(j))\n",
        "    listpath.append(list1)\n",
        "\n",
        "print(\"Path Similarities(Probabilities) : \",listpath)"
      ],
      "execution_count": null,
      "outputs": [
        {
          "output_type": "stream",
          "text": [
            "Path Similarities(Probabilities) :  [[0.1111111111111111, 0.07692307692307693, 0.1, 0.09090909090909091, 0.05555555555555555, 0.08333333333333333, 0.1111111111111111, 0.09090909090909091, 0.09090909090909091, 0.0625]]\n"
          ],
          "name": "stdout"
        }
      ]
    },
    {
      "cell_type": "code",
      "metadata": {
        "colab": {
          "base_uri": "https://localhost:8080/"
        },
        "id": "k-2kAuvzbY8l",
        "outputId": "1e20cbed-fba5-4527-826b-62cee1c57210"
      },
      "source": [
        "maxvalues=[]\n",
        "index_list=[]\n",
        "for x in listpath:\n",
        "    a=max(x)\n",
        "    index_list.append(x.index(a))\n",
        "    maxvalues.append(a)\n",
        "print\n",
        "print(\"maxvalues :\",maxvalues,\" index list : \",index_list)"
      ],
      "execution_count": null,
      "outputs": [
        {
          "output_type": "stream",
          "text": [
            "maxvalues : [0.1111111111111111]  index list :  [0]\n"
          ],
          "name": "stdout"
        }
      ]
    },
    {
      "cell_type": "code",
      "metadata": {
        "colab": {
          "base_uri": "https://localhost:8080/"
        },
        "id": "Dm-XjqX7bY8l",
        "outputId": "a064f533-1b25-4bc6-c2c0-fc4e46775904"
      },
      "source": [
        "zipped=zip(index_list,maxvalues)\n",
        "listzip=list(zipped)\n",
        "print(\"The maximum probability of \"+chk_Noun[0]+\" matching with \"+chk_Noun[1]+\" is in the sense: \"\n",
        "      +str(synset_1[0].name())+\"\\nThe definition of the same is : \"+synset_1[0].definition()\n",
        "     +\"\\nThe other noun\" + str(synset_2[listzip[0][0]].name()) + \" matching with the propability of: \"+str(listzip[0][1])\n",
        "      +\"\\nIts definition is: \" + synset_2[listzip[0][0]].definition())"
      ],
      "execution_count": null,
      "outputs": [
        {
          "output_type": "stream",
          "text": [
            "The maximum probability of river matching with bank is in the sense: river.n.01\n",
            "The definition of the same is : a large natural stream of water (larger than a creek)\n",
            "The other nounbank.n.01 matching with the propability of: 0.1111111111111111\n",
            "Its definition is: sloping land (especially the slope beside a body of water)\n"
          ],
          "name": "stdout"
        }
      ]
    },
    {
      "cell_type": "code",
      "metadata": {
        "id": "y9p47PZgbY8l"
      },
      "source": [
        ""
      ],
      "execution_count": null,
      "outputs": []
    }
  ]
}