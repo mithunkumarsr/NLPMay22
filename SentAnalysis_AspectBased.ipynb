{
  "nbformat": 4,
  "nbformat_minor": 0,
  "metadata": {
    "colab": {
      "name": "SentAnalysis_AspectBased.ipynb",
      "provenance": [],
      "authorship_tag": "ABX9TyNcpuhfOT/zZ+mPZ0z/tRCB",
      "include_colab_link": true
    },
    "kernelspec": {
      "name": "python3",
      "display_name": "Python 3"
    },
    "language_info": {
      "name": "python"
    }
  },
  "cells": [
    {
      "cell_type": "markdown",
      "metadata": {
        "id": "view-in-github",
        "colab_type": "text"
      },
      "source": [
        "<a href=\"https://colab.research.google.com/github/mithunkumarsr/NLPMay22/blob/main/SentAnalysis_AspectBased.ipynb\" target=\"_parent\"><img src=\"https://colab.research.google.com/assets/colab-badge.svg\" alt=\"Open In Colab\"/></a>"
      ]
    },
    {
      "cell_type": "code",
      "metadata": {
        "id": "QhKbvLKSkYXo"
      },
      "source": [
        "# We get started by importing spacy\n",
        "import spacy\n",
        "nlp = spacy.load(\"en_core_web_sm\")"
      ],
      "execution_count": 1,
      "outputs": []
    },
    {
      "cell_type": "code",
      "metadata": {
        "id": "OTNofX4ukdwX"
      },
      "source": [
        "sentences = [\n",
        "  'The food we had yesterday was delicious',\n",
        "  'My time in Italy was very enjoyable',\n",
        "  'I found the meal to be tasty',\n",
        "  'The internet was slow.',\n",
        "  'Our experience was suboptimal'\n",
        "]"
      ],
      "execution_count": 2,
      "outputs": []
    },
    {
      "cell_type": "code",
      "metadata": {
        "colab": {
          "base_uri": "https://localhost:8080/"
        },
        "id": "sUQpl7x2khkV",
        "outputId": "d23438f3-8373-41ed-dac5-2d829e6aee87"
      },
      "source": [
        "for sentence in sentences:\n",
        "  doc = nlp(sentence)\n",
        "  for token in doc:\n",
        "    print(token.text, token.dep_, token.head.text, token.head.pos_,\n",
        "      token.pos_,[child for child in token.children])"
      ],
      "execution_count": 3,
      "outputs": [
        {
          "output_type": "stream",
          "name": "stdout",
          "text": [
            "The det food NOUN DET []\n",
            "food nsubj was AUX NOUN [The, had]\n",
            "we nsubj had VERB PRON []\n",
            "had relcl food NOUN VERB [we, yesterday]\n",
            "yesterday npadvmod had VERB NOUN []\n",
            "was ROOT was AUX AUX [food, delicious]\n",
            "delicious acomp was AUX ADJ []\n",
            "My poss time NOUN PRON []\n",
            "time nsubj was AUX NOUN [My, in]\n",
            "in prep time NOUN ADP [Italy]\n",
            "Italy pobj in ADP PROPN []\n",
            "was ROOT was AUX AUX [time, enjoyable]\n",
            "very advmod enjoyable ADJ ADV []\n",
            "enjoyable acomp was AUX ADJ [very]\n",
            "I nsubj found VERB PRON []\n",
            "found ROOT found VERB VERB [I, be]\n",
            "the det meal NOUN DET []\n",
            "meal nsubj be AUX NOUN [the]\n",
            "to aux be AUX PART []\n",
            "be ccomp found VERB AUX [meal, to, tasty]\n",
            "tasty acomp be AUX ADJ []\n",
            "The det internet NOUN DET []\n",
            "internet nsubj was AUX NOUN [The]\n",
            "was ROOT was AUX AUX [internet, slow, .]\n",
            "slow acomp was AUX ADJ []\n",
            ". punct was AUX PUNCT []\n",
            "Our poss experience NOUN PRON []\n",
            "experience nsubj was AUX NOUN [Our]\n",
            "was ROOT was AUX AUX [experience, suboptimal]\n",
            "suboptimal acomp was AUX ADJ []\n"
          ]
        }
      ]
    },
    {
      "cell_type": "code",
      "metadata": {
        "colab": {
          "base_uri": "https://localhost:8080/"
        },
        "id": "zXn0KZA9kpEc",
        "outputId": "1051499a-ea40-4fda-93d4-3d4b07dae00d"
      },
      "source": [
        "for sentence in sentences:\n",
        "  doc = nlp(sentence)\n",
        "  descriptive_term = ''\n",
        "  for token in doc:\n",
        "    if token.pos_ == 'ADJ':\n",
        "      descriptive_term = token\n",
        "  print(sentence)\n",
        "  print(descriptive_term)"
      ],
      "execution_count": 4,
      "outputs": [
        {
          "output_type": "stream",
          "name": "stdout",
          "text": [
            "The food we had yesterday was delicious\n",
            "delicious\n",
            "My time in Italy was very enjoyable\n",
            "enjoyable\n",
            "I found the meal to be tasty\n",
            "tasty\n",
            "The internet was slow.\n",
            "slow\n",
            "Our experience was suboptimal\n",
            "suboptimal\n"
          ]
        }
      ]
    },
    {
      "cell_type": "code",
      "metadata": {
        "colab": {
          "base_uri": "https://localhost:8080/"
        },
        "id": "fOtrsZVqkvYH",
        "outputId": "3d1c8071-485a-479c-b237-a8638219f22b"
      },
      "source": [
        "# Pickup intensifiers like “very”\n",
        "for sentence in sentences:\n",
        "  doc = nlp(sentence)\n",
        "  descriptive_term = ''\n",
        "  for token in doc:\n",
        "    if token.pos_ == 'ADJ':\n",
        "      prepend = ''\n",
        "      for child in token.children:\n",
        "        if child.pos_ != 'ADV':\n",
        "          continue\n",
        "        prepend += child.text + ' '\n",
        "      descriptive_term = prepend + token.text\n",
        "  print(sentence)\n",
        "  print(descriptive_term)"
      ],
      "execution_count": 5,
      "outputs": [
        {
          "output_type": "stream",
          "name": "stdout",
          "text": [
            "The food we had yesterday was delicious\n",
            "delicious\n",
            "My time in Italy was very enjoyable\n",
            "very enjoyable\n",
            "I found the meal to be tasty\n",
            "tasty\n",
            "The internet was slow.\n",
            "slow\n",
            "Our experience was suboptimal\n",
            "suboptimal\n"
          ]
        }
      ]
    },
    {
      "cell_type": "code",
      "metadata": {
        "colab": {
          "base_uri": "https://localhost:8080/"
        },
        "id": "u1WM-hnilFUF",
        "outputId": "66429784-75a6-40b6-b192-96b8f0975a53"
      },
      "source": [
        "# identify the targets\n",
        "aspects = []\n",
        "for sentence in sentences:\n",
        "  doc = nlp(sentence)\n",
        "  descriptive_term = ''\n",
        "  target = ''\n",
        "  for token in doc:\n",
        "    if token.dep_ == 'nsubj' and token.pos_ == 'NOUN':\n",
        "      target = token.text\n",
        "    if token.pos_ == 'ADJ':\n",
        "      prepend = ''\n",
        "      for child in token.children:\n",
        "        if child.pos_ != 'ADV':\n",
        "          continue\n",
        "        prepend += child.text + ' '\n",
        "      descriptive_term = prepend + token.text\n",
        "  aspects.append({'aspect': target,\n",
        "    'description': descriptive_term})\n",
        "print(aspects)"
      ],
      "execution_count": 6,
      "outputs": [
        {
          "output_type": "stream",
          "name": "stdout",
          "text": [
            "[{'aspect': 'food', 'description': 'delicious'}, {'aspect': 'time', 'description': 'very enjoyable'}, {'aspect': 'meal', 'description': 'tasty'}, {'aspect': 'internet', 'description': 'slow'}, {'aspect': 'experience', 'description': 'suboptimal'}]\n"
          ]
        }
      ]
    },
    {
      "cell_type": "code",
      "metadata": {
        "colab": {
          "base_uri": "https://localhost:8080/"
        },
        "id": "BxzQ3FzXlfSf",
        "outputId": "c19bc249-c61c-4ab9-f726-8843cc9feb6d"
      },
      "source": [
        "from textblob import TextBlob\n",
        "for aspect in aspects:\n",
        "  aspect['sentiment'] = TextBlob(aspect['description']).sentiment\n",
        "print(aspects)"
      ],
      "execution_count": 7,
      "outputs": [
        {
          "output_type": "stream",
          "name": "stdout",
          "text": [
            "[{'aspect': 'food', 'description': 'delicious', 'sentiment': Sentiment(polarity=1.0, subjectivity=1.0)}, {'aspect': 'time', 'description': 'very enjoyable', 'sentiment': Sentiment(polarity=0.65, subjectivity=0.78)}, {'aspect': 'meal', 'description': 'tasty', 'sentiment': Sentiment(polarity=0.0, subjectivity=0.0)}, {'aspect': 'internet', 'description': 'slow', 'sentiment': Sentiment(polarity=-0.30000000000000004, subjectivity=0.39999999999999997)}, {'aspect': 'experience', 'description': 'suboptimal', 'sentiment': Sentiment(polarity=0.0, subjectivity=0.0)}]\n"
          ]
        }
      ]
    },
    {
      "cell_type": "code",
      "metadata": {
        "colab": {
          "base_uri": "https://localhost:8080/"
        },
        "id": "upaRfdKFl35O",
        "outputId": "33418476-ca3f-495a-8d47-31ec0774093a"
      },
      "source": [
        "!python -m textblob.download_corpora\n",
        "\n",
        "from textblob.classifiers import NaiveBayesClassifier\n",
        "# We train the NaivesBayesClassifier\n",
        "train = [\n",
        "  ('Slow internet.', 'negative'),\n",
        "  ('Delicious food', 'positive'),\n",
        "  ('Suboptimal experience', 'negative'),\n",
        "  ('Very enjoyable time', 'positive'),\n",
        "  ('delicious food.', 'neg')\n",
        "]\n",
        "cl = NaiveBayesClassifier(train)\n",
        "# And then we try to classify some sample sentences.\n",
        "blob = TextBlob(\"Delicious food. Very Slow internet. Suboptimal experience. Enjoyable food.\", classifier=cl)\n",
        "for s in blob.sentences:\n",
        "  print(s)\n",
        "  print(s.classify())"
      ],
      "execution_count": 8,
      "outputs": [
        {
          "output_type": "stream",
          "name": "stdout",
          "text": [
            "[nltk_data] Downloading package brown to /root/nltk_data...\n",
            "[nltk_data]   Unzipping corpora/brown.zip.\n",
            "[nltk_data] Downloading package punkt to /root/nltk_data...\n",
            "[nltk_data]   Unzipping tokenizers/punkt.zip.\n",
            "[nltk_data] Downloading package wordnet to /root/nltk_data...\n",
            "[nltk_data] Downloading package averaged_perceptron_tagger to\n",
            "[nltk_data]     /root/nltk_data...\n",
            "[nltk_data]   Unzipping taggers/averaged_perceptron_tagger.zip.\n",
            "[nltk_data] Downloading package conll2000 to /root/nltk_data...\n",
            "[nltk_data]   Unzipping corpora/conll2000.zip.\n",
            "[nltk_data] Downloading package movie_reviews to /root/nltk_data...\n",
            "[nltk_data]   Unzipping corpora/movie_reviews.zip.\n",
            "Finished.\n",
            "Delicious food.\n",
            "positive\n",
            "Very Slow internet.\n",
            "negative\n",
            "Suboptimal experience.\n",
            "negative\n",
            "Enjoyable food.\n",
            "positive\n"
          ]
        }
      ]
    }
  ]
}